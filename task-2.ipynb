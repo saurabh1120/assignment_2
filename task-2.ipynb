{
 "cells": [
  {
   "cell_type": "markdown",
   "metadata": {},
   "source": [
    "# Task - 2"
   ]
  },
  {
   "cell_type": "markdown",
   "metadata": {},
   "source": [
    "# Registration_id - SIRSS1263"
   ]
  },
  {
   "cell_type": "markdown",
   "metadata": {},
   "source": [
    "# Name - Saurabh Sinha"
   ]
  },
  {
   "cell_type": "markdown",
   "metadata": {},
   "source": [
    "### 1.Write a lambda expression to extract first word of a string."
   ]
  },
  {
   "cell_type": "code",
   "execution_count": 1,
   "metadata": {},
   "outputs": [
    {
     "name": "stdout",
     "output_type": "stream",
     "text": [
      "Proud\n"
     ]
    }
   ],
   "source": [
    "st=\"Proud to be an INDIAN \"\n",
    "lam= (lambda x:[ i for i in x if i[0].isalpha()][0])(st.split())\n",
    "print(lam)"
   ]
  },
  {
   "cell_type": "markdown",
   "metadata": {},
   "source": [
    "### 2.Write a function to extract first word of s string (with many words separated by space)."
   ]
  },
  {
   "cell_type": "code",
   "execution_count": 2,
   "metadata": {},
   "outputs": [
    {
     "data": {
      "text/plain": [
       "'india'"
      ]
     },
     "execution_count": 2,
     "metadata": {},
     "output_type": "execute_result"
    }
   ],
   "source": [
    "def first_w(string):\n",
    "    return string.split()[0]\n",
    "string=\"india is the best\"\n",
    "first_w(string)"
   ]
  },
  {
   "cell_type": "markdown",
   "metadata": {},
   "source": [
    "### 3.Extract the first word from every string from a list of strings by using map function."
   ]
  },
  {
   "cell_type": "code",
   "execution_count": 3,
   "metadata": {},
   "outputs": [
    {
     "name": "stdout",
     "output_type": "stream",
     "text": [
      "my corona my life\n"
     ]
    }
   ],
   "source": [
    "string=[\"my name is khan \",\"corona is very dangerous\",\"my life my rule\",\"life is hard\"]\n",
    "i=list(map(lambda s:s.split(\" \")[0],string))\n",
    "print(*i)"
   ]
  },
  {
   "cell_type": "markdown",
   "metadata": {},
   "source": [
    "### 4.Write a function to return a list of prime factors of a given number."
   ]
  },
  {
   "cell_type": "code",
   "execution_count": 4,
   "metadata": {},
   "outputs": [
    {
     "name": "stdout",
     "output_type": "stream",
     "text": [
      "Enter the number :200\n"
     ]
    },
    {
     "data": {
      "text/plain": [
       "[2, 2, 2, 5, 5]"
      ]
     },
     "execution_count": 4,
     "metadata": {},
     "output_type": "execute_result"
    }
   ],
   "source": [
    "def P_f(n):\n",
    "    i = 2\n",
    "    f = []\n",
    "    while i * i <= n:\n",
    "        if n % i:\n",
    "            i += 1\n",
    "        else:\n",
    "            n //= i\n",
    "            f.append(i)\n",
    "    if n > 1:\n",
    "        f.append(n)\n",
    "    return f\n",
    "n=int(input(\"Enter the number :\"))\n",
    "P_f(n)"
   ]
  },
  {
   "cell_type": "markdown",
   "metadata": {},
   "source": [
    "### 5.Write a function that finds 2nd largest among 4 numbers (Repetitions are allowed,without sorting)."
   ]
  },
  {
   "cell_type": "code",
   "execution_count": 5,
   "metadata": {},
   "outputs": [
    {
     "name": "stdout",
     "output_type": "stream",
     "text": [
      "second height number is :  20\n"
     ]
    }
   ],
   "source": [
    "l=[10, 20, 4, 99]\n",
    " \n",
    "max=max(l[0],l[1])\n",
    "s_max=min(l[0],l[1])\n",
    " \n",
    "for i in range(2,len(l)):\n",
    "    if l[i]>max:\n",
    "        s_max=max\n",
    "        max=l[i]\n",
    "    else:\n",
    "        if l[i]>s_max:\n",
    "            s_max=l[i]\n",
    " \n",
    "print(\"second height number is : \",str(s_max))"
   ]
  },
  {
   "cell_type": "code",
   "execution_count": null,
   "metadata": {},
   "outputs": [],
   "source": []
  }
 ],
 "metadata": {
  "kernelspec": {
   "display_name": "Python 3",
   "language": "python",
   "name": "python3"
  },
  "language_info": {
   "codemirror_mode": {
    "name": "ipython",
    "version": 3
   },
   "file_extension": ".py",
   "mimetype": "text/x-python",
   "name": "python",
   "nbconvert_exporter": "python",
   "pygments_lexer": "ipython3",
   "version": "3.8.5"
  }
 },
 "nbformat": 4,
 "nbformat_minor": 4
}
